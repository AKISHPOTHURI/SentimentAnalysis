{
 "cells": [
  {
   "cell_type": "code",
   "execution_count": 2,
   "metadata": {},
   "outputs": [
    {
     "data": {
      "text/plain": [
       "'c:\\\\Users\\\\akish.pothuri\\\\python\\\\SentimentAnalysis\\\\SentimentAPI\\\\research'"
      ]
     },
     "execution_count": 2,
     "metadata": {},
     "output_type": "execute_result"
    }
   ],
   "source": [
    "%pwd"
   ]
  },
  {
   "cell_type": "code",
   "execution_count": 3,
   "metadata": {},
   "outputs": [
    {
     "data": {
      "text/plain": [
       "'c:\\\\Users\\\\akish.pothuri\\\\python\\\\SentimentAnalysis\\\\SentimentAPI'"
      ]
     },
     "execution_count": 3,
     "metadata": {},
     "output_type": "execute_result"
    }
   ],
   "source": [
    "import os\n",
    "os.chdir(\"../\")\n",
    "%pwd"
   ]
  },
  {
   "cell_type": "code",
   "execution_count": 4,
   "metadata": {},
   "outputs": [],
   "source": [
    "from sklearn.model_selection import train_test_split\n",
    "import keras"
   ]
  },
  {
   "cell_type": "code",
   "execution_count": 5,
   "metadata": {},
   "outputs": [],
   "source": [
    "from dataclasses import dataclass\n",
    "from pathlib import Path\n",
    "\n",
    "@dataclass(frozen=True)\n",
    "class ModelEvaluationConfig:\n",
    "    root_dir: Path\n",
    "    METRIC_FILE: Path\n",
    "    model: Path"
   ]
  },
  {
   "cell_type": "code",
   "execution_count": 6,
   "metadata": {},
   "outputs": [],
   "source": [
    "from Sentiment.constants import *\n",
    "from Sentiment.utils.common import read_yaml, create_directories"
   ]
  },
  {
   "cell_type": "code",
   "execution_count": 16,
   "metadata": {},
   "outputs": [],
   "source": [
    "class ConfigurationManager:\n",
    "    def __init__(\n",
    "        self,\n",
    "        config_filepath = CONFIG_FILE_PATH,\n",
    "        params_filepath = PARAMS_FILE_PATH):\n",
    "\n",
    "        self.config = read_yaml(config_filepath)\n",
    "        self.params = read_yaml(params_filepath)\n",
    "\n",
    "        create_directories([self.config.artifacts_root])\n",
    "\n",
    "\n",
    "    \n",
    "    def get_model_evaluation_config(self) -> ModelEvaluationConfig:\n",
    "        config = self.config.model_evaluation\n",
    "\n",
    "        create_directories([config.root_dir])\n",
    "\n",
    "        model_evaluation_config = ModelEvaluationConfig(\n",
    "            root_dir = config.root_dir,\n",
    "            METRIC_FILE = config.METRIC_FILE,\n",
    "            model = config.model\n",
    "        )\n",
    "\n",
    "        return model_evaluation_config"
   ]
  },
  {
   "cell_type": "code",
   "execution_count": 8,
   "metadata": {},
   "outputs": [],
   "source": [
    "import os\n",
    "from Sentiment import logger\n",
    "from sklearn.metrics import accuracy_score,recall_score,precision_score,f1_score"
   ]
  },
  {
   "cell_type": "code",
   "execution_count": 9,
   "metadata": {},
   "outputs": [],
   "source": [
    "class ModelEvaluation:\n",
    "    def __init__(self, config: ModelEvaluationConfig):\n",
    "        self.config = config\n",
    "\n",
    "    def loadModel(self):\n",
    "        model = keras.models.load_model(self.config.model)\n",
    "        return model\n",
    "    \n",
    "    def predictTest(self,testSentences,model):\n",
    "        return model.predict(testSentences)\n",
    "    \n",
    "    def EvaluationMetrics(self,predictions,testLabels):\n",
    "        try:\n",
    "            accuracyScore = accuracy_score(testLabels,predictions)\n",
    "            recallScore = recall_score(testLabels,predictions)\n",
    "            precisionScore = precision_score(testLabels,predictions)\n",
    "            f1Score = f1_score(testLabels,predictions)\n",
    "            return accuracyScore,recallScore,precisionScore,f1Score\n",
    "        except Exception as e:\n",
    "            raise e\n",
    "        \n",
    "    def ModelEvaluationStatus(self,accuracyScore,recallScore,precisionScore,f1Score):\n",
    "        try:\n",
    "            validation_status = None\n",
    "\n",
    "            all_files = os.listdir(os.path.join(\"artifacts\",\"model_evaluation\"))\n",
    "\n",
    "            for file in all_files:\n",
    "                if file not in self.config.ALL_REQUIRED_FILES:\n",
    "                    Evaluation_status = False\n",
    "                    with open(self.config.STATUS_FILE, 'w') as f:\n",
    "                        f.write(f\"Evaluation status: {Evaluation_status}\")\n",
    "                else:\n",
    "                    Evaluation_status = True\n",
    "                    with open(self.config.STATUS_FILE, 'w') as f:\n",
    "                        f.write(f\"Evaluation status: {Evaluation_status}\"+\",\")\n",
    "                        f.write(f\"accuracyScore: {accuracyScore}\"+\",\")\n",
    "                        f.write(f\"recallScore: {recallScore}\"+\",\")\n",
    "                        f.write(f\"precisionScore: {precisionScore}\"+\",\")\n",
    "                        f.write(f\"f1Score: {f1Score}\"+\",\")\n",
    "\n",
    "            return validation_status\n",
    "        \n",
    "        except Exception as e:\n",
    "            raise e"
   ]
  },
  {
   "cell_type": "code",
   "execution_count": 11,
   "metadata": {},
   "outputs": [],
   "source": [
    "from Sentiment.components.model_trainer import ModelTrainer\n",
    "# from Sentiment.config.configuration import mo"
   ]
  },
  {
   "cell_type": "code",
   "execution_count": 13,
   "metadata": {},
   "outputs": [],
   "source": [
    "from Sentiment.config.configuration import ConfigurationManager"
   ]
  },
  {
   "cell_type": "code",
   "execution_count": 17,
   "metadata": {},
   "outputs": [
    {
     "name": "stdout",
     "output_type": "stream",
     "text": [
      "[2024-01-05 00:35:29,137: INFO: common: yaml file: {yaml_file}]\n",
      "[2024-01-05 00:35:29,155: INFO: common: yaml file: config\\config.yaml loaded successfully]\n",
      "[2024-01-05 00:35:29,158: INFO: common: yaml file: {yaml_file}]\n",
      "[2024-01-05 00:35:29,162: INFO: common: yaml file: params.yaml loaded successfully]\n",
      "[2024-01-05 00:35:29,170: INFO: common: created directory at: artifacts]\n"
     ]
    },
    {
     "ename": "AttributeError",
     "evalue": "'ConfigurationManager' object has no attribute 'get_model_trainer_config'",
     "output_type": "error",
     "traceback": [
      "\u001b[1;31m---------------------------------------------------------------------------\u001b[0m",
      "\u001b[1;31mAttributeError\u001b[0m                            Traceback (most recent call last)",
      "Cell \u001b[1;32mIn[17], line 28\u001b[0m\n\u001b[0;32m      7\u001b[0m     \u001b[38;5;66;03m# logger.info(f\"data loading Started\")\u001b[39;00m\n\u001b[0;32m      8\u001b[0m     \u001b[38;5;66;03m# sentiData = model_trainer_config.loadData()\u001b[39;00m\n\u001b[0;32m      9\u001b[0m     \u001b[38;5;66;03m# logger.info(f\"data loading Completed\")\u001b[39;00m\n\u001b[1;32m   (...)\u001b[0m\n\u001b[0;32m     25\u001b[0m     \u001b[38;5;66;03m# model_evaluation_config.ModelEvaluationStatus(accuracyScore,recallScore,precisionScore,f1Score)\u001b[39;00m\n\u001b[0;32m     26\u001b[0m     \u001b[38;5;66;03m# logger.info(f\"EvaluationMetrics Saved\")\u001b[39;00m\n\u001b[0;32m     27\u001b[0m \u001b[38;5;28;01mexcept\u001b[39;00m \u001b[38;5;167;01mException\u001b[39;00m \u001b[38;5;28;01mas\u001b[39;00m e:\n\u001b[1;32m---> 28\u001b[0m     \u001b[38;5;28;01mraise\u001b[39;00m e\n",
      "Cell \u001b[1;32mIn[17], line 3\u001b[0m\n\u001b[0;32m      1\u001b[0m \u001b[38;5;28;01mtry\u001b[39;00m:\n\u001b[0;32m      2\u001b[0m     config \u001b[38;5;241m=\u001b[39m ConfigurationManager()\n\u001b[1;32m----> 3\u001b[0m     model_trainer_config \u001b[38;5;241m=\u001b[39m \u001b[43mconfig\u001b[49m\u001b[38;5;241;43m.\u001b[39;49m\u001b[43mget_model_trainer_config\u001b[49m()\n\u001b[0;32m      4\u001b[0m     model_trainer_config \u001b[38;5;241m=\u001b[39m ModelTrainer(config\u001b[38;5;241m=\u001b[39mmodel_trainer_config)\n\u001b[0;32m      5\u001b[0m     model_evaluation_config \u001b[38;5;241m=\u001b[39m config\u001b[38;5;241m.\u001b[39mget_model_evaluation_config()\n",
      "\u001b[1;31mAttributeError\u001b[0m: 'ConfigurationManager' object has no attribute 'get_model_trainer_config'"
     ]
    }
   ],
   "source": [
    "try:\n",
    "    config = ConfigurationManager()\n",
    "    model_trainer_config = config.get_model_trainer_config()\n",
    "    model_trainer_config = ModelTrainer(config=model_trainer_config)\n",
    "    model_evaluation_config = config.get_model_evaluation_config()\n",
    "    model_evaluation_config = ModelEvaluation(config=model_evaluation_config)\n",
    "    logger.info(f\"data loading Started\")\n",
    "    sentiData = model_trainer_config.loadData()\n",
    "    logger.info(f\"data loading Completed\")\n",
    "    logger.info(f\"data Lowercase convertion Started\")\n",
    "    sentiData = model_trainer_config.convertToLower(sentiData)\n",
    "    logger.info(f\"data Lowercase convertion Completed\")\n",
    "    logger.info(f\"data Splitting Started\")\n",
    "    trainSentences, testSentences, trainLabels, testLabels = model_trainer_config.splitData(sentiData)\n",
    "    logger.info(f\"data Splitting Completed\")\n",
    "    logger.info(f\"Model Loading\")\n",
    "    model = model_evaluation_config.loadModel()\n",
    "    logger.info(f\"Model Loaded\")\n",
    "    logger.info(f\"Predicting Test Data\")\n",
    "    predictions = model_evaluation_config.predictTest(model,testSentences)\n",
    "    logger.info(f\"Predicting Test Data Completed\")\n",
    "    logger.info(f\"EvaluationMetrics Started\")\n",
    "    accuracyScore,recallScore,precisionScore,f1Score = model_evaluation_config.EvaluationMetrics(predictions,testLabels)\n",
    "    logger.info(f\"EvaluationMetrics Completed\")\n",
    "    model_evaluation_config.ModelEvaluationStatus(accuracyScore,recallScore,precisionScore,f1Score)\n",
    "    logger.info(f\"EvaluationMetrics Saved\")\n",
    "except Exception as e:\n",
    "    raise e"
   ]
  },
  {
   "cell_type": "code",
   "execution_count": null,
   "metadata": {},
   "outputs": [],
   "source": [
    "tr"
   ]
  }
 ],
 "metadata": {
  "kernelspec": {
   "display_name": "cancer",
   "language": "python",
   "name": "python3"
  },
  "language_info": {
   "codemirror_mode": {
    "name": "ipython",
    "version": 3
   },
   "file_extension": ".py",
   "mimetype": "text/x-python",
   "name": "python",
   "nbconvert_exporter": "python",
   "pygments_lexer": "ipython3",
   "version": "3.8.0"
  }
 },
 "nbformat": 4,
 "nbformat_minor": 2
}
